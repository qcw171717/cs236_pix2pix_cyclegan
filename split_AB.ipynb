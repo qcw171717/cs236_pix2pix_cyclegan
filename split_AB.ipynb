{
 "cells": [
  {
   "cell_type": "code",
   "execution_count": 13,
   "id": "cffdca48-eea2-42f3-87f0-84b7e01242a0",
   "metadata": {},
   "outputs": [],
   "source": [
    "import os\n",
    "import cv2\n",
    "import matplotlib.pyplot as plt"
   ]
  },
  {
   "cell_type": "code",
   "execution_count": 23,
   "id": "9ac5c83a-2b10-44f4-820b-3b4485962491",
   "metadata": {},
   "outputs": [],
   "source": [
    "# dir_A, dir_B = '../data/trainA', '../data/trainB'\n",
    "# !mkdir $dir_A\n",
    "# !mkdir $dir_B"
   ]
  },
  {
   "cell_type": "code",
   "execution_count": 24,
   "id": "9bd2562e-c9e3-4fd1-8330-eaa03f0ce0e2",
   "metadata": {},
   "outputs": [],
   "source": [
    "# dir_A, dir_B = '../data/valA', '../data/valB'\n",
    "# !mkdir $dir_A\n",
    "# !mkdir $dir_B"
   ]
  },
  {
   "cell_type": "code",
   "execution_count": 25,
   "id": "1d0d7b06-1494-47f2-9e5e-98901d01762c",
   "metadata": {},
   "outputs": [],
   "source": [
    "# dir_A, dir_B = '../data/testA', '../data/testB'\n",
    "# !mkdir $dir_A\n",
    "# !mkdir $dir_B"
   ]
  },
  {
   "cell_type": "code",
   "execution_count": 33,
   "id": "3ed0764f-4a21-473b-9d3c-45a3b2a40f37",
   "metadata": {},
   "outputs": [],
   "source": [
    "root = '../data/'\n",
    "train_filenames = os.listdir(root + 'train/')\n",
    "for f in train_filenames:\n",
    "    if f.split('.')[-1] != 'png':\n",
    "        continue\n",
    "    img = cv2.imread(root + 'train/' + f)#[:,:,::-1]\n",
    "    img_A = img[:, :512, :]\n",
    "    img_B = img[:, 512:, :]\n",
    "    cv2.imwrite(root + 'trainA/' + f, img_A)\n",
    "    cv2.imwrite(root + 'trainB/' + f, img_B)"
   ]
  },
  {
   "cell_type": "code",
   "execution_count": 38,
   "id": "fa11069c-9e32-41b9-a7ac-d6aacaeafa8d",
   "metadata": {},
   "outputs": [],
   "source": [
    "root = '../data/'\n",
    "set_name = 'val'\n",
    "train_filenames = os.listdir(root + '{}/'.format(set_name))\n",
    "for f in train_filenames:\n",
    "    if f.split('.')[-1] != 'png':\n",
    "        continue\n",
    "    img = cv2.imread(root + '{}/'.format(set_name) + f)#[:,:,::-1]\n",
    "    img_A = img[:, :512, :]\n",
    "    img_B = img[:, 512:, :]\n",
    "    cv2.imwrite(root + '{}A/'.format(set_name) + f, img_A)\n",
    "    cv2.imwrite(root + '{}B/'.format(set_name) + f, img_B)"
   ]
  },
  {
   "cell_type": "code",
   "execution_count": 39,
   "id": "82724265-4897-4296-9d12-48fb363c28f1",
   "metadata": {},
   "outputs": [],
   "source": [
    "root = '../data/'\n",
    "set_name = 'test'\n",
    "train_filenames = os.listdir(root + '{}/'.format(set_name))\n",
    "for f in train_filenames:\n",
    "    if f.split('.')[-1] != 'png':\n",
    "        continue\n",
    "    img = cv2.imread(root + '{}/'.format(set_name) + f)#[:,:,::-1]\n",
    "    img_A = img[:, :512, :]\n",
    "    img_B = img[:, 512:, :]\n",
    "    cv2.imwrite(root + '{}A/'.format(set_name) + f, img_A)\n",
    "    cv2.imwrite(root + '{}B/'.format(set_name) + f, img_B)"
   ]
  },
  {
   "cell_type": "code",
   "execution_count": null,
   "id": "5805aa8d-b927-4a54-9c10-c36a388ee194",
   "metadata": {},
   "outputs": [],
   "source": []
  }
 ],
 "metadata": {
  "kernelspec": {
   "display_name": "Python 3",
   "language": "python",
   "name": "python3"
  },
  "language_info": {
   "codemirror_mode": {
    "name": "ipython",
    "version": 3
   },
   "file_extension": ".py",
   "mimetype": "text/x-python",
   "name": "python",
   "nbconvert_exporter": "python",
   "pygments_lexer": "ipython3",
   "version": "3.7.11"
  }
 },
 "nbformat": 4,
 "nbformat_minor": 5
}
